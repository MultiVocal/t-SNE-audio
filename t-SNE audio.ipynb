{
 "cells": [
  {
   "cell_type": "code",
   "execution_count": 69,
   "id": "stuck-parish",
   "metadata": {},
   "outputs": [],
   "source": [
    "import librosa\n",
    "from tqdm import tqdm\n",
    "import os\n",
    "import pandas as pd\n",
    "import numpy as np\n",
    "import pickle\n",
    "import plotly.graph_objects as go\n",
    "import pygame"
   ]
  },
  {
   "cell_type": "code",
   "execution_count": 81,
   "id": "economic-reduction",
   "metadata": {},
   "outputs": [],
   "source": [
    "def get_audio_files(path, extension):\n",
    "    files = []\n",
    "    for file in os.listdir(path):\n",
    "        if file.endswith(extension):\n",
    "            files.append(os.path.join(path, file))\n",
    "    return files"
   ]
  },
  {
   "cell_type": "code",
   "execution_count": 82,
   "id": "decent-sensitivity",
   "metadata": {},
   "outputs": [],
   "source": [
    "def get_features(y, sr):\n",
    "    y = y[0:sr*3] \t# analyze just first second\n",
    "    S = librosa.feature.melspectrogram(y, sr=sr, n_mels=128)\n",
    "    log_S = librosa.amplitude_to_db(S, ref=np.max)\n",
    "    mfcc = librosa.feature.mfcc(S=log_S, n_mfcc=13)\n",
    "    delta_mfcc = librosa.feature.delta(mfcc, mode='nearest')\n",
    "    delta2_mfcc = librosa.feature.delta(mfcc, order=2, mode='nearest')\n",
    "    feature_vector = np.concatenate(\n",
    "        (np.mean(mfcc, 1), np.mean(delta_mfcc, 1), np.mean(delta2_mfcc, 1)))\n",
    "    feature_vector = (feature_vector-np.mean(feature_vector)\n",
    "                      ) / np.std(feature_vector)\n",
    "    return feature_vector, y.mean()"
   ]
  },
  {
   "cell_type": "code",
   "execution_count": 83,
   "id": "vietnamese-difficulty",
   "metadata": {},
   "outputs": [
    {
     "name": "stderr",
     "output_type": "stream",
     "text": [
      "100%|██████████| 8408/8408 [01:06<00:00, 127.04it/s]\n"
     ]
    }
   ],
   "source": [
    "audio_dir = '/Users/frederik/OneDrive - Roskilde Universitet/multivocal - anyines'\n",
    "files = get_audio_files(audio_dir, 'wav')\n",
    "feature_vectors = []\n",
    "for f in tqdm(files):\n",
    "    y, sr = librosa.load(f)\n",
    "    feat, avg_amp = get_features(y, sr)\n",
    "    feature_vectors.append({\"file\": f, \"features\": feat, \"avg_amp\": avg_amp})"
   ]
  },
  {
   "cell_type": "code",
   "execution_count": 84,
   "id": "editorial-literacy",
   "metadata": {},
   "outputs": [],
   "source": [
    "from sklearn.manifold import TSNE\n",
    "\n",
    "tsne = TSNE(n_components=2, learning_rate=200, perplexity=50,\n",
    "                verbose=1, angle=0.1, random_state=0)"
   ]
  },
  {
   "cell_type": "code",
   "execution_count": 85,
   "id": "prostate-dutch",
   "metadata": {},
   "outputs": [
    {
     "name": "stdout",
     "output_type": "stream",
     "text": [
      "[t-SNE] Computing 151 nearest neighbors...\n",
      "[t-SNE] Indexed 8408 samples in 0.000s...\n",
      "[t-SNE] Computed neighbors for 8408 samples in 1.489s...\n",
      "[t-SNE] Computed conditional probabilities for sample 1000 / 8408\n",
      "[t-SNE] Computed conditional probabilities for sample 2000 / 8408\n",
      "[t-SNE] Computed conditional probabilities for sample 3000 / 8408\n",
      "[t-SNE] Computed conditional probabilities for sample 4000 / 8408\n",
      "[t-SNE] Computed conditional probabilities for sample 5000 / 8408\n",
      "[t-SNE] Computed conditional probabilities for sample 6000 / 8408\n",
      "[t-SNE] Computed conditional probabilities for sample 7000 / 8408\n",
      "[t-SNE] Computed conditional probabilities for sample 8000 / 8408\n",
      "[t-SNE] Computed conditional probabilities for sample 8408 / 8408\n",
      "[t-SNE] Mean sigma: 0.012527\n",
      "[t-SNE] KL divergence after 250 iterations with early exaggeration: 72.667664\n",
      "[t-SNE] KL divergence after 1000 iterations: 1.180069\n"
     ]
    }
   ],
   "source": [
    "tsne = tsne.fit_transform([f[\"features\"] for f in feature_vectors])"
   ]
  },
  {
   "cell_type": "code",
   "execution_count": 90,
   "id": "classical-arizona",
   "metadata": {},
   "outputs": [],
   "source": [
    "data = []\n",
    "for i, f in enumerate(feature_vectors):\n",
    "    abspath = os.path.abspath(f['file'])\n",
    "    file_name = os.path.basename(f['file'])\n",
    "    data.append([abspath, file_name, tsne[i,0], tsne[i,1], f['avg_amp']])\n",
    "\n",
    "df = pd.DataFrame(data, columns =['path','file_name','x','y', 'avg_amp'])\n",
    "df.to_csv('feature_vectors.csv', index=False)"
   ]
  },
  {
   "cell_type": "code",
   "execution_count": 91,
   "id": "bigger-wings",
   "metadata": {},
   "outputs": [],
   "source": [
    "# create our callback function\n",
    "def play_sound(trace, points, selector):\n",
    "    path = df.iloc[points.point_inds].path.item()\n",
    "    pygame.mixer.init()\n",
    "    pygame.mixer.music.load(path)\n",
    "    pygame.mixer.music.play(1)"
   ]
  },
  {
   "cell_type": "code",
   "execution_count": 129,
   "id": "dried-combat",
   "metadata": {},
   "outputs": [
    {
     "data": {
      "application/vnd.jupyter.widget-view+json": {
       "model_id": "b3ccaebac01a4b41b570f1c8ae3099cd",
       "version_major": 2,
       "version_minor": 0
      },
      "text/plain": [
       "FigureWidget({\n",
       "    'data': [{'customdata': [['/Users/frederik/OneDrive - Roskilde\n",
       "                            …"
      ]
     },
     "metadata": {},
     "output_type": "display_data"
    }
   ],
   "source": [
    "f = go.FigureWidget([go.Scatter(x=df.x, y=df.y, text=df.file_name, \n",
    "                                customdata=[df.path, df.file_name], \n",
    "                                mode='markers')])\n",
    "scatter = f.data[0]\n",
    "f.layout.hovermode = 'closest'\n",
    "f.update_traces(hovertemplate=\"%{text}<extra></extra>\") # clean up hover label\n",
    "scatter.on_click(play_sound)\n",
    "scatter.marker.colorscale = 'agsunset'\n",
    "scatter.marker.color = df['x'] * df['y'] + 1\n",
    "f"
   ]
  },
  {
   "cell_type": "code",
   "execution_count": null,
   "id": "marine-circulation",
   "metadata": {},
   "outputs": [],
   "source": []
  },
  {
   "cell_type": "code",
   "execution_count": null,
   "id": "deadly-probe",
   "metadata": {},
   "outputs": [],
   "source": []
  },
  {
   "cell_type": "code",
   "execution_count": null,
   "id": "shared-registrar",
   "metadata": {},
   "outputs": [],
   "source": []
  }
 ],
 "metadata": {
  "kernelspec": {
   "display_name": "3.9.5",
   "language": "python",
   "name": "3.9.5"
  },
  "language_info": {
   "codemirror_mode": {
    "name": "ipython",
    "version": 3
   },
   "file_extension": ".py",
   "mimetype": "text/x-python",
   "name": "python",
   "nbconvert_exporter": "python",
   "pygments_lexer": "ipython3",
   "version": "3.9.5"
  }
 },
 "nbformat": 4,
 "nbformat_minor": 5
}
