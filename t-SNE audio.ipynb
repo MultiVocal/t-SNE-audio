{
 "cells": [
  {
   "cell_type": "code",
   "execution_count": 44,
   "id": "bound-stadium",
   "metadata": {},
   "outputs": [],
   "source": [
    "import librosa\n",
    "from tqdm import tqdm\n",
    "import os\n",
    "import pandas as pd\n",
    "import numpy as np\n",
    "import pickle"
   ]
  },
  {
   "cell_type": "code",
   "execution_count": 45,
   "id": "extended-avatar",
   "metadata": {},
   "outputs": [],
   "source": [
    "def get_audio_files(path, extension):\n",
    "    files = []\n",
    "    for file in os.listdir(path):\n",
    "        if file.endswith(extension):\n",
    "            files.append(os.path.join(path, file))\n",
    "    return files"
   ]
  },
  {
   "cell_type": "code",
   "execution_count": 46,
   "id": "periodic-negative",
   "metadata": {},
   "outputs": [],
   "source": [
    "def get_features(y, sr):\n",
    "    y = y[0:sr*3] \t# analyze just first second\n",
    "    S = librosa.feature.melspectrogram(y, sr=sr, n_mels=128)\n",
    "    log_S = librosa.amplitude_to_db(S, ref=np.max)\n",
    "    mfcc = librosa.feature.mfcc(S=log_S, n_mfcc=13)\n",
    "    delta_mfcc = librosa.feature.delta(mfcc, mode='nearest')\n",
    "    delta2_mfcc = librosa.feature.delta(mfcc, order=2, mode='nearest')\n",
    "    feature_vector = np.concatenate(\n",
    "        (np.mean(mfcc, 1), np.mean(delta_mfcc, 1), np.mean(delta2_mfcc, 1)))\n",
    "    feature_vector = (feature_vector-np.mean(feature_vector)\n",
    "                      ) / np.std(feature_vector)\n",
    "    return feature_vector"
   ]
  },
  {
   "cell_type": "code",
   "execution_count": null,
   "id": "falling-burst",
   "metadata": {},
   "outputs": [],
   "source": [
    "audio_dir = '/Users/frederik/OneDrive - Roskilde Universitet/multivocal - anyines'\n",
    "files = get_audio_files(audio_dir, 'wav')\n",
    "feature_vectors = []\n",
    "for f in tqdm(files):\n",
    "    y, sr = librosa.load(f)\n",
    "    feat = get_features(y, sr)\n",
    "    feature_vectors.append({\"file\": f, \"features\": feat})\n",
    "\n",
    "with open('features.pkl', 'wb') as f:\n",
    "    pickle.dump(feature_vectors,f)"
   ]
  },
  {
   "cell_type": "code",
   "execution_count": 48,
   "id": "representative-difficulty",
   "metadata": {},
   "outputs": [],
   "source": [
    "loaded_feature_vectors = []\n",
    "\n",
    "with open('features.pkl', 'rb') as f:\n",
    "    loaded_feature_vectors = pickle.load(f)"
   ]
  },
  {
   "cell_type": "code",
   "execution_count": 50,
   "id": "quarterly-allowance",
   "metadata": {},
   "outputs": [],
   "source": [
    "from sklearn.manifold import TSNE\n",
    "\n",
    "tsne = TSNE(n_components=2, learning_rate=200, perplexity=50,\n",
    "                verbose=1, angle=0.1)"
   ]
  },
  {
   "cell_type": "code",
   "execution_count": 51,
   "id": "accessory-outside",
   "metadata": {},
   "outputs": [
    {
     "name": "stdout",
     "output_type": "stream",
     "text": [
      "[t-SNE] Computing 30 nearest neighbors...\n",
      "[t-SNE] Indexed 31 samples in 0.000s...\n",
      "[t-SNE] Computed neighbors for 31 samples in 0.005s...\n",
      "[t-SNE] Computed conditional probabilities for sample 31 / 31\n",
      "[t-SNE] Mean sigma: 1125899906842624.000000\n",
      "[t-SNE] KL divergence after 250 iterations with early exaggeration: 46.512260\n",
      "[t-SNE] KL divergence after 1000 iterations: 0.509151\n"
     ]
    }
   ],
   "source": [
    "tsne = tsne.fit_transform([f[\"features\"] for f in feature_vectors])"
   ]
  },
  {
   "cell_type": "code",
   "execution_count": 56,
   "id": "billion-moral",
   "metadata": {},
   "outputs": [],
   "source": [
    "data = []\n",
    "for i, f in enumerate(feature_vectors):\n",
    "    abspath = os.path.abspath(f['file'])\n",
    "    file_name = os.path.basename(f['file'])\n",
    "    data.append([abspath, file_name, tsne[i,0], tsne[i,1]])\n",
    "\n",
    "df = pd.DataFrame(data, columns =['path','file_name','x','y'])\n",
    "df.to_csv('feature_vectors.csv', index=False)"
   ]
  },
  {
   "cell_type": "code",
   "execution_count": 57,
   "id": "capable-feeling",
   "metadata": {},
   "outputs": [],
   "source": [
    "# create our callback function\n",
    "def play_sound(trace, points, selector):\n",
    "    path = df.iloc[points.point_inds].path.item()\n",
    "    pygame.mixer.init()\n",
    "    pygame.mixer.music.load(path)\n",
    "    pygame.mixer.music.play(1)"
   ]
  },
  {
   "cell_type": "code",
   "execution_count": 59,
   "id": "certain-array",
   "metadata": {},
   "outputs": [
    {
     "name": "stdout",
     "output_type": "stream",
     "text": [
      "pygame 2.0.1 (SDL 2.0.14, Python 3.9.5)\n",
      "Hello from the pygame community. https://www.pygame.org/contribute.html\n"
     ]
    },
    {
     "data": {
      "application/vnd.jupyter.widget-view+json": {
       "model_id": "fef91abb5d084ef2be41d18e94d960b1",
       "version_major": 2,
       "version_minor": 0
      },
      "text/plain": [
       "FigureWidget({\n",
       "    'data': [{'customdata': [['/Users/frederik/OneDrive - Roskilde\n",
       "                            …"
      ]
     },
     "metadata": {},
     "output_type": "display_data"
    }
   ],
   "source": [
    "import plotly.graph_objects as go\n",
    "import pygame\n",
    "\n",
    "f = go.FigureWidget([go.Scatter(x=df.x, y=df.y, text=df.file_name, \n",
    "                                customdata=[df.path, df.file_name], \n",
    "                                mode='markers')])\n",
    "scatter = f.data[0]\n",
    "f.layout.hovermode = 'closest'\n",
    "f.update_traces(hovertemplate=\"%{text}<extra></extra>\") # clean up hover label\n",
    "scatter.on_click(play_sound)\n",
    "\n",
    "f"
   ]
  },
  {
   "cell_type": "code",
   "execution_count": null,
   "id": "figured-contractor",
   "metadata": {},
   "outputs": [],
   "source": []
  }
 ],
 "metadata": {
  "kernelspec": {
   "display_name": "3.9.5",
   "language": "python",
   "name": "3.9.5"
  },
  "language_info": {
   "codemirror_mode": {
    "name": "ipython",
    "version": 3
   },
   "file_extension": ".py",
   "mimetype": "text/x-python",
   "name": "python",
   "nbconvert_exporter": "python",
   "pygments_lexer": "ipython3",
   "version": "3.9.5"
  }
 },
 "nbformat": 4,
 "nbformat_minor": 5
}
